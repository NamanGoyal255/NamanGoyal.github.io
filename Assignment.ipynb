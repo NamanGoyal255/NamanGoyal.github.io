{
  "nbformat": 4,
  "nbformat_minor": 0,
  "metadata": {
    "colab": {
      "provenance": [],
      "authorship_tag": "ABX9TyNT0yHj2oMQQVdDUH6eNxnY",
      "include_colab_link": true
    },
    "kernelspec": {
      "name": "python3",
      "display_name": "Python 3"
    },
    "language_info": {
      "name": "python"
    }
  },
  "cells": [
    {
      "cell_type": "markdown",
      "metadata": {
        "id": "view-in-github",
        "colab_type": "text"
      },
      "source": [
        "<a href=\"https://colab.research.google.com/github/NamanGoyal255/NamanGoyal.github.io/blob/main/Assignment.ipynb\" target=\"_parent\"><img src=\"https://colab.research.google.com/assets/colab-badge.svg\" alt=\"Open In Colab\"/></a>"
      ]
    },
    {
      "cell_type": "code",
      "execution_count": 15,
      "metadata": {
        "colab": {
          "base_uri": "https://localhost:8080/"
        },
        "id": "Pnq5lzbNWKDA",
        "outputId": "b6b3cd28-7b23-461c-b2e2-afa6556efa7e"
      },
      "outputs": [
        {
          "output_type": "stream",
          "name": "stdout",
          "text": [
            "[11, 12, 13, 14, 50]\n",
            "[11, 12, 13, 14, 50, 60]\n",
            "[12, 14, 50, 60]\n"
          ]
        }
      ],
      "source": [
        "L=[11,12,13,14]\n",
        "L.append(50)\n",
        "print(L)\n",
        "L.append(60)\n",
        "print(L)\n",
        "del L[0],L[1]\n",
        "print(L)\n",
        "\n",
        "\n"
      ]
    },
    {
      "cell_type": "code",
      "source": [
        "\n",
        "L.sort(reverse=True)\n",
        "print(L)"
      ],
      "metadata": {
        "colab": {
          "base_uri": "https://localhost:8080/"
        },
        "id": "c9rjX4CDYwLu",
        "outputId": "15eff522-bf5f-41a1-99a5-96c6621fc9c5"
      },
      "execution_count": 17,
      "outputs": [
        {
          "output_type": "stream",
          "name": "stdout",
          "text": [
            "[60, 50, 14, 12]\n"
          ]
        }
      ]
    },
    {
      "cell_type": "code",
      "source": [
        "print('Sum of list is:',sum(L))"
      ],
      "metadata": {
        "colab": {
          "base_uri": "https://localhost:8080/"
        },
        "id": "8MKQ4l7CZRKt",
        "outputId": "a0f72d1b-0e62-498b-9b9f-e53cacac558e"
      },
      "execution_count": 18,
      "outputs": [
        {
          "output_type": "stream",
          "name": "stdout",
          "text": [
            "Sum of list is: 136\n"
          ]
        }
      ]
    },
    {
      "cell_type": "code",
      "source": [
        "\n",
        "newlo=[]\n",
        "newle=[]\n",
        "for i in range(0,len(L)):\n",
        "  if L[i]%2!=0:\n",
        "    newlo.append(L[i])\n",
        "  else:\n",
        "    newle.append(L[i])  \n",
        "print(\"sum of odd num is:\",sum(newlo))    \n",
        "print(\"sum of even num is:\",sum(newle))  "
      ],
      "metadata": {
        "colab": {
          "base_uri": "https://localhost:8080/"
        },
        "id": "9tmk_62PZcWJ",
        "outputId": "e8c05530-ca9f-4289-8313-baee2953990b"
      },
      "execution_count": 20,
      "outputs": [
        {
          "output_type": "stream",
          "name": "stdout",
          "text": [
            "sum of odd num is: 0\n",
            "sum of even num is: 136\n"
          ]
        }
      ]
    },
    {
      "cell_type": "code",
      "source": [
        "def IsPrime(n):\n",
        "\tfor i in range(2, n//2 + 1):\n",
        "\t\tif n%i==0:\n",
        "\t\t\treturn 0\n",
        "\treturn 1\n",
        "s=0  \n",
        "for i in range(0,len(L)):\n",
        "  if IsPrime(L[i]):\n",
        "    s+=L[i]\n",
        "print('Sum of prime no is:',s)    \n"
      ],
      "metadata": {
        "colab": {
          "base_uri": "https://localhost:8080/"
        },
        "id": "F8fIe-pKbIi1",
        "outputId": "aef5d6ca-77b3-47f5-d461-c4ccc9324fee"
      },
      "execution_count": 23,
      "outputs": [
        {
          "output_type": "stream",
          "name": "stdout",
          "text": [
            "Sum of prime no is: 0\n"
          ]
        }
      ]
    },
    {
      "cell_type": "code",
      "source": [
        "print(L)\n",
        "L.sort()\n",
        "print(L)"
      ],
      "metadata": {
        "colab": {
          "base_uri": "https://localhost:8080/"
        },
        "id": "tQajKHpDY1Qe",
        "outputId": "90312644-1463-49ad-f124-fe6fd2847313"
      },
      "execution_count": 30,
      "outputs": [
        {
          "output_type": "stream",
          "name": "stdout",
          "text": [
            "[60, 50, 14, 12]\n",
            "[12, 14, 50, 60]\n"
          ]
        }
      ]
    },
    {
      "cell_type": "code",
      "source": [
        "L.clear()\n",
        "print(L)"
      ],
      "metadata": {
        "colab": {
          "base_uri": "https://localhost:8080/"
        },
        "id": "ZDcu7gTCcAPY",
        "outputId": "0863d805-0304-442c-b3e4-8b0a47d087cb"
      },
      "execution_count": 32,
      "outputs": [
        {
          "output_type": "stream",
          "name": "stdout",
          "text": [
            "[]\n"
          ]
        }
      ]
    },
    {
      "cell_type": "code",
      "source": [
        "del L"
      ],
      "metadata": {
        "id": "ZluBziKCcgeW"
      },
      "execution_count": 33,
      "outputs": []
    },
    {
      "cell_type": "code",
      "source": [
        "D={1:5.6, 2:7.8,3:6.6, 4:8.7, 5:7.7}\n",
        "S=0\n",
        "for k in D:\n",
        "  s+=D[k]\n",
        "print('sum is ',s)  \n"
      ],
      "metadata": {
        "colab": {
          "base_uri": "https://localhost:8080/"
        },
        "id": "AQkCPDsYc9uZ",
        "outputId": "136995c3-19f4-4709-8af6-a7d834c539c1"
      },
      "execution_count": 39,
      "outputs": [
        {
          "output_type": "stream",
          "name": "stdout",
          "text": [
            "sum is  36.4\n"
          ]
        }
      ]
    },
    {
      "cell_type": "code",
      "source": [
        "D[3] = 7.1\n",
        "print (\"After Updating (3)  --> \", D)"
      ],
      "metadata": {
        "colab": {
          "base_uri": "https://localhost:8080/"
        },
        "id": "zBvK65qmhdLj",
        "outputId": "a63291d1-d91a-486e-9f95-e58d5d677d7c"
      },
      "execution_count": 40,
      "outputs": [
        {
          "output_type": "stream",
          "name": "stdout",
          "text": [
            "After Updating (3)  -->  {1: 5.6, 2: 7.8, 3: 7.1, 4: 8.7, 5: 7.7}\n"
          ]
        }
      ]
    },
    {
      "cell_type": "code",
      "source": [
        " D.clear()\n",
        " print(D)"
      ],
      "metadata": {
        "colab": {
          "base_uri": "https://localhost:8080/"
        },
        "id": "a5A57JPGhn2d",
        "outputId": "1a44d4d2-fc55-49d3-a60b-d455934e75b5"
      },
      "execution_count": 45,
      "outputs": [
        {
          "output_type": "stream",
          "name": "stdout",
          "text": [
            "{}\n"
          ]
        }
      ]
    },
    {
      "cell_type": "code",
      "source": [
        "s1= set([10,20,30,40,50,60 ])\n",
        "s2=  set([10,20,30,40,50,60 ])"
      ],
      "metadata": {
        "id": "oEOupMC1iQUe"
      },
      "execution_count": 44,
      "outputs": []
    },
    {
      "cell_type": "code",
      "source": [
        "s1.add(55)\n",
        "print (\"Set After Adding 55 --> \", s1)\n"
      ],
      "metadata": {
        "colab": {
          "base_uri": "https://localhost:8080/"
        },
        "id": "hN1nv0HHkSWy",
        "outputId": "05435423-b887-44cd-d87e-abc2f60bc478"
      },
      "execution_count": 46,
      "outputs": [
        {
          "output_type": "stream",
          "name": "stdout",
          "text": [
            "Set After Adding  -->  {40, 10, 50, 20, 55, 60, 30}\n"
          ]
        }
      ]
    },
    {
      "cell_type": "code",
      "source": [
        "s1.add(66)\n",
        "print (\"Set After Adding 66 --> \", s1)"
      ],
      "metadata": {
        "colab": {
          "base_uri": "https://localhost:8080/"
        },
        "id": "5fIj77akksT-",
        "outputId": "9e97b1ab-6389-462d-c3d2-86cede449d1d"
      },
      "execution_count": 47,
      "outputs": [
        {
          "output_type": "stream",
          "name": "stdout",
          "text": [
            "Set After Adding 66 -->  {66, 40, 10, 50, 20, 55, 60, 30}\n"
          ]
        }
      ]
    },
    {
      "cell_type": "code",
      "source": [
        "s1.remove(10)\n",
        "s1.remove(30)\n",
        "print (\"Set After removing  --> \", s1)"
      ],
      "metadata": {
        "colab": {
          "base_uri": "https://localhost:8080/"
        },
        "id": "pvU81u0Zk31c",
        "outputId": "61734015-cbe1-4c79-fc7a-59df5080609b"
      },
      "execution_count": 48,
      "outputs": [
        {
          "output_type": "stream",
          "name": "stdout",
          "text": [
            "Set After removing  -->  {66, 40, 50, 20, 55, 60}\n"
          ]
        }
      ]
    },
    {
      "cell_type": "code",
      "source": [
        "if 40 in s1:\n",
        "  print(\"Yes, \")"
      ],
      "metadata": {
        "colab": {
          "base_uri": "https://localhost:8080/"
        },
        "id": "WUtqi6ExlHLP",
        "outputId": "2b031d6d-4bf9-49f3-bbe6-b40c7ffc7cab"
      },
      "execution_count": 49,
      "outputs": [
        {
          "output_type": "stream",
          "name": "stdout",
          "text": [
            "Yes, \n"
          ]
        }
      ]
    },
    {
      "cell_type": "code",
      "source": [
        "print (\"Union of s1 and s2   --> \", s1.union(s2))"
      ],
      "metadata": {
        "colab": {
          "base_uri": "https://localhost:8080/"
        },
        "id": "lPKrgnZLlsyJ",
        "outputId": "b9466f8f-20b8-4375-d59e-8a13b6494a91"
      },
      "execution_count": 50,
      "outputs": [
        {
          "output_type": "stream",
          "name": "stdout",
          "text": [
            "Union of s1 and s2   -->  {66, 40, 10, 50, 20, 55, 60, 30}\n"
          ]
        }
      ]
    },
    {
      "cell_type": "code",
      "source": [
        "print (\"Inter of s1 and s2   --> \", s1.intersection(s2))"
      ],
      "metadata": {
        "colab": {
          "base_uri": "https://localhost:8080/"
        },
        "id": "WFQJSH1ol4x1",
        "outputId": "c6d24f1b-1a15-4986-98a8-51c55d84584f"
      },
      "execution_count": 51,
      "outputs": [
        {
          "output_type": "stream",
          "name": "stdout",
          "text": [
            "Inter of s1 and s2   -->  {40, 50, 20, 60}\n"
          ]
        }
      ]
    },
    {
      "cell_type": "code",
      "source": [
        "print (\"Difference b - a    --> \", s1-s2)"
      ],
      "metadata": {
        "colab": {
          "base_uri": "https://localhost:8080/"
        },
        "id": "5HsQdVY6mLnA",
        "outputId": "d4d84895-b75b-43c6-9c65-df7ca542be11"
      },
      "execution_count": 52,
      "outputs": [
        {
          "output_type": "stream",
          "name": "stdout",
          "text": [
            "Difference b - a    -->  {66, 55}\n"
          ]
        }
      ]
    },
    {
      "cell_type": "code",
      "source": [
        "D[8]=8.8\n",
        "print(\"after adding\",D)"
      ],
      "metadata": {
        "colab": {
          "base_uri": "https://localhost:8080/"
        },
        "id": "pBStXE9OdW7I",
        "outputId": "a6bf700d-d76a-4076-be29-518376a66aba"
      },
      "execution_count": 35,
      "outputs": [
        {
          "output_type": "stream",
          "name": "stdout",
          "text": [
            "after adding {1: 5.6, 2: 7.8, 3: 6.6, 4: 8.7, 5: 7.7, 8: 8.8}\n"
          ]
        }
      ]
    },
    {
      "cell_type": "code",
      "source": [
        "del D[2]\n",
        "print(D)"
      ],
      "metadata": {
        "colab": {
          "base_uri": "https://localhost:8080/"
        },
        "id": "gu-hVNdGduEa",
        "outputId": "2844a9ec-c22e-4d42-c34f-1ff66aeae5a9"
      },
      "execution_count": 36,
      "outputs": [
        {
          "output_type": "stream",
          "name": "stdout",
          "text": [
            "{1: 5.6, 3: 6.6, 4: 8.7, 5: 7.7, 8: 8.8}\n"
          ]
        }
      ]
    },
    {
      "cell_type": "code",
      "source": [
        "print (\"Is Key 6 Present    --> \", 6 in D)"
      ],
      "metadata": {
        "colab": {
          "base_uri": "https://localhost:8080/"
        },
        "id": "p9TeYSZ5eb3_",
        "outputId": "cc38a81b-9313-4f85-871f-74e498a6ed1d"
      },
      "execution_count": 37,
      "outputs": [
        {
          "output_type": "stream",
          "name": "stdout",
          "text": [
            "Is Key 6 Present    -->  False\n"
          ]
        }
      ]
    },
    {
      "cell_type": "code",
      "source": [
        "def IsPrime(n):\n",
        "\tfor i in range(2, n//2 + 1):\n",
        "\t\tif n%i==0:\n",
        "\t\t\treturn 0\n",
        "\treturn 1\n",
        "for i in range(600,801):\n",
        "  if IsPrime(i):\n",
        "    print(i)\n"
      ],
      "metadata": {
        "colab": {
          "base_uri": "https://localhost:8080/"
        },
        "id": "4AXdlElupNqa",
        "outputId": "bbc5a2ce-93e4-4a5e-8a15-ad4c4bff1300"
      },
      "execution_count": 53,
      "outputs": [
        {
          "output_type": "stream",
          "name": "stdout",
          "text": [
            "601\n",
            "607\n",
            "613\n",
            "617\n",
            "619\n",
            "631\n",
            "641\n",
            "643\n",
            "647\n",
            "653\n",
            "659\n",
            "661\n",
            "673\n",
            "677\n",
            "683\n",
            "691\n",
            "701\n",
            "709\n",
            "719\n",
            "727\n",
            "733\n",
            "739\n",
            "743\n",
            "751\n",
            "757\n",
            "761\n",
            "769\n",
            "773\n",
            "787\n",
            "797\n"
          ]
        }
      ]
    },
    {
      "cell_type": "code",
      "source": [
        "for i in range(101,1000):\n",
        "  if i%7==0 and i%9==0:\n",
        "    print(i)"
      ],
      "metadata": {
        "colab": {
          "base_uri": "https://localhost:8080/"
        },
        "id": "jsVTQpyUqUWr",
        "outputId": "4fb12867-75b8-4634-dac7-dc370a9f6c2e"
      },
      "execution_count": 54,
      "outputs": [
        {
          "output_type": "stream",
          "name": "stdout",
          "text": [
            "126\n",
            "189\n",
            "252\n",
            "315\n",
            "378\n",
            "441\n",
            "504\n",
            "567\n",
            "630\n",
            "693\n",
            "756\n",
            "819\n",
            "882\n",
            "945\n"
          ]
        }
      ]
    },
    {
      "cell_type": "code",
      "source": [
        "def IsPrime(n):\n",
        "\tfor i in range(2, n//2 + 1):\n",
        "\t\tif n%i==0:\n",
        "\t\t\treturn 0\n",
        "\treturn 1\n",
        "p=0\n",
        "for i in lisp:\n",
        "  if IsPrime(i):\n",
        "    print(i)\n",
        "    p+=1\n",
        "print(\"Prime number in list is:\",p)    \n"
      ],
      "metadata": {
        "colab": {
          "base_uri": "https://localhost:8080/"
        },
        "id": "sDcTAkCVzM7w",
        "outputId": "e7875be5-8f14-4077-a139-4a2779982699"
      },
      "execution_count": 73,
      "outputs": [
        {
          "output_type": "stream",
          "name": "stdout",
          "text": [
            "541\n",
            "491\n",
            "797\n",
            "787\n",
            "389\n",
            "421\n",
            "521\n",
            "443\n",
            "389\n",
            "499\n",
            "Prime number in list is: 10\n"
          ]
        }
      ]
    },
    {
      "cell_type": "code",
      "source": [
        "import random\n",
        "randomlist1 = []\n",
        "randomlist2 = []\n",
        "for i in range(0,10):\n",
        "  \n",
        "  n = random.randint(1,30)\n",
        "  t=random.randint(1,30)\n",
        "  randomlist1.append(n)\n",
        "  randomlist2.append(t)\n",
        "print(randomlist1)  \n",
        "print(randomlist2)  "
      ],
      "metadata": {
        "colab": {
          "base_uri": "https://localhost:8080/"
        },
        "id": "pDWnInfUrm6j",
        "outputId": "29c214ea-5b52-402f-fceb-9bba93ed57ac"
      },
      "execution_count": 55,
      "outputs": [
        {
          "output_type": "stream",
          "name": "stdout",
          "text": [
            "[14, 4, 29, 2, 30, 10, 9, 4, 21, 5]\n",
            "[6, 28, 2, 12, 4, 1, 28, 14, 14, 5]\n"
          ]
        }
      ]
    },
    {
      "cell_type": "code",
      "source": [
        "def common(a,b):\n",
        "  result = [i for i in a if i in b]\n",
        "  return result\n",
        "print(common(randomlist1,randomlist2))  "
      ],
      "metadata": {
        "colab": {
          "base_uri": "https://localhost:8080/"
        },
        "id": "xBnjoUORszpc",
        "outputId": "d44bfeb4-af46-44aa-da01-fab80ded850e"
      },
      "execution_count": 56,
      "outputs": [
        {
          "output_type": "stream",
          "name": "stdout",
          "text": [
            "[14, 4, 2, 4, 5]\n"
          ]
        }
      ]
    },
    {
      "cell_type": "code",
      "source": [
        "max_all=max(randomlist1 + randomlist2)\n",
        "print(max_all)"
      ],
      "metadata": {
        "colab": {
          "base_uri": "https://localhost:8080/"
        },
        "id": "ldqZfG-JubHQ",
        "outputId": "9ead1b57-c17d-49c8-bfe8-a7f17ddc2bf8"
      },
      "execution_count": 57,
      "outputs": [
        {
          "output_type": "stream",
          "name": "stdout",
          "text": [
            "30\n"
          ]
        }
      ]
    },
    {
      "cell_type": "code",
      "source": [
        "min_all=min(randomlist1 + randomlist2)\n",
        "print(min_all)"
      ],
      "metadata": {
        "colab": {
          "base_uri": "https://localhost:8080/"
        },
        "id": "N45zVRLNu3XY",
        "outputId": "b3fc10d5-5bda-43e1-d9e0-fd21bccc7007"
      },
      "execution_count": 60,
      "outputs": [
        {
          "output_type": "stream",
          "name": "stdout",
          "text": [
            "1\n"
          ]
        }
      ]
    },
    {
      "cell_type": "code",
      "source": [
        "res_list = []\n",
        "for i in range(0, len(randomlist1)):\n",
        "    res_list.append(randomlist1[i] + randomlist2[i])\n",
        "print(\"Sum is\"+ str(res_list))"
      ],
      "metadata": {
        "colab": {
          "base_uri": "https://localhost:8080/"
        },
        "id": "t0OgfFvvvOks",
        "outputId": "78f17efd-4fad-4670-f2e0-106bd4b32cc7"
      },
      "execution_count": 62,
      "outputs": [
        {
          "output_type": "stream",
          "name": "stdout",
          "text": [
            "Sum is[20, 32, 31, 14, 34, 11, 37, 18, 35, 10]\n"
          ]
        }
      ]
    },
    {
      "cell_type": "code",
      "source": [
        "print('Number of elements:',len(D))"
      ],
      "metadata": {
        "colab": {
          "base_uri": "https://localhost:8080/"
        },
        "id": "ChVW_GPDe6fV",
        "outputId": "29c19ca2-99a3-4566-af8a-a03422a512cc"
      },
      "execution_count": 38,
      "outputs": [
        {
          "output_type": "stream",
          "name": "stdout",
          "text": [
            "Number of elements: 5\n"
          ]
        }
      ]
    },
    {
      "cell_type": "code",
      "source": [
        "def uncommon_items_with_op(list1, list2):\n",
        "    set1 = set(list1)\n",
        "    set2 = set(list2)\n",
        "    if(set1.symmetric_difference(set2)):\n",
        "        print( 'Uncommon elements: ' + str(set1.symmetric_difference(set2)))\n",
        "    else:\n",
        "        print ('No Uncommon elements')\n",
        "\n",
        "\n",
        "\n",
        "uncommon_items_with_op(randomlist1, randomlist2)"
      ],
      "metadata": {
        "colab": {
          "base_uri": "https://localhost:8080/"
        },
        "id": "R0YQN5Amw1u0",
        "outputId": "3a45e88d-2db8-414c-fca2-3024961df58b"
      },
      "execution_count": 64,
      "outputs": [
        {
          "output_type": "stream",
          "name": "stdout",
          "text": [
            "Uncommon elements: {1, 6, 9, 10, 12, 21, 28, 29, 30}\n"
          ]
        }
      ]
    },
    {
      "cell_type": "code",
      "source": [
        "import random as r\n",
        "lisp=[]\n",
        "for i in range(0,100):\n",
        "  n=r.randint(100,900)\n",
        "  lisp.append(n)\n",
        "print(lisp)\n",
        "      \n"
      ],
      "metadata": {
        "colab": {
          "base_uri": "https://localhost:8080/"
        },
        "id": "lTdBu3Whw8bw",
        "outputId": "1363d6d4-5251-44c7-f61e-8a989f33529c"
      },
      "execution_count": 67,
      "outputs": [
        {
          "output_type": "stream",
          "name": "stdout",
          "text": [
            "[519, 578, 843, 377, 738, 652, 482, 899, 598, 551, 693, 152, 368, 406, 893, 553, 541, 687, 378, 784, 438, 792, 370, 245, 491, 686, 854, 299, 473, 676, 562, 580, 278, 591, 609, 329, 867, 797, 275, 265, 713, 774, 572, 627, 836, 518, 168, 779, 437, 674, 787, 581, 340, 309, 436, 389, 111, 114, 869, 325, 790, 362, 888, 866, 623, 237, 861, 736, 172, 421, 169, 186, 214, 360, 612, 410, 686, 880, 532, 804, 122, 182, 713, 878, 207, 177, 654, 484, 652, 521, 443, 154, 389, 326, 363, 116, 499, 763, 635, 890]\n"
          ]
        }
      ]
    },
    {
      "cell_type": "code",
      "source": [
        "D={1:\"One\",2:\"Two\",3:\"Three\",4:\"Four\",5:\"Five\"}"
      ],
      "metadata": {
        "id": "Fu7HH8yz0XJN"
      },
      "execution_count": 74,
      "outputs": []
    },
    {
      "cell_type": "code",
      "source": [
        "f= open(\"myfile.txt\", 'w')  \n",
        "for key, value in D.items(): \n",
        "  \n",
        "  f.write('%s,%s\\n' % (key, value))\n",
        "f.close()\n",
        "print (\"Writing done !! \\nOpen myfile.txt to view the content\")  \n"
      ],
      "metadata": {
        "colab": {
          "base_uri": "https://localhost:8080/"
        },
        "id": "aCC5HElp0ZIU",
        "outputId": "cae1157d-7341-4c7a-8e82-a3ad16c82ab6"
      },
      "execution_count": 76,
      "outputs": [
        {
          "output_type": "stream",
          "name": "stdout",
          "text": [
            "Writing done !! \n",
            "Open myfile.txt to view the content\n"
          ]
        }
      ]
    },
    {
      "cell_type": "code",
      "source": [
        "L=[\"One\",\"Two\",\"Three\",\"Four\",\"Five\"]"
      ],
      "metadata": {
        "id": "SzTUgN_o0ZSU"
      },
      "execution_count": 77,
      "outputs": []
    },
    {
      "cell_type": "code",
      "source": [
        "f= open(\"myfile2.txt\", 'w')  \n",
        "for i in L:\n",
        "  n=len(i) \n",
        "  f.write(\"%s,%d\\n\" %(i,n))\n",
        "  \n",
        "  \n",
        "f.close()\n",
        "print (\"Writing done !! \\nOpen myfile.txt to view the content\")  \n",
        "\n"
      ],
      "metadata": {
        "colab": {
          "base_uri": "https://localhost:8080/"
        },
        "id": "CALtg5aq0ZaD",
        "outputId": "563eda40-5dae-4e2e-f679-a7699fccffc8"
      },
      "execution_count": 78,
      "outputs": [
        {
          "output_type": "stream",
          "name": "stdout",
          "text": [
            "Writing done !! \n",
            "Open myfile.txt to view the content\n"
          ]
        }
      ]
    },
    {
      "cell_type": "code",
      "source": [
        "def IsPrime(n):\n",
        "\tfor i in range(2, n//2 + 1):\n",
        "\t\tif n%i==0:\n",
        "\t\t\treturn 0\n",
        "\treturn 1\n",
        "f= open(\"myfile3.txt\", 'w')    \n",
        "for i in range(600,801):\n",
        "  if IsPrime(i):\n",
        "    f.write(\"%d\\n\" %i)\n",
        "f.close()\n",
        "print (\"Writing done !! \\nOpen myfile.txt to view the content\")      \n"
      ],
      "metadata": {
        "colab": {
          "base_uri": "https://localhost:8080/"
        },
        "id": "i0iApVZi0ZdV",
        "outputId": "5fd1b3d5-4ca3-4c96-be01-eaaca80b8894"
      },
      "execution_count": 80,
      "outputs": [
        {
          "output_type": "stream",
          "name": "stdout",
          "text": [
            "Writing done !! \n",
            "Open myfile.txt to view the content\n"
          ]
        }
      ]
    },
    {
      "cell_type": "code",
      "source": [
        "import time\n",
        " \n",
        "\n",
        "begin = time.time()\n",
        " \n",
        "\n",
        " \n",
        "for i in range(5):\n",
        "    print(\"Hello\")\n",
        "\n",
        " \n",
        "time.sleep(1)\n",
        "\n",
        "end = time.time()\n",
        " \n",
        "# total time taken\n",
        "print(\"Total runtime of the program is \",end-begin)"
      ],
      "metadata": {
        "colab": {
          "base_uri": "https://localhost:8080/"
        },
        "id": "UHcedEMP0Zgr",
        "outputId": "40754047-bdab-4114-fea9-7442c53aa5b2"
      },
      "execution_count": 83,
      "outputs": [
        {
          "output_type": "stream",
          "name": "stdout",
          "text": [
            "Hello\n",
            "Hello\n",
            "Hello\n",
            "Hello\n",
            "Hello\n",
            "Total runtime of the program is  1.0044639110565186\n"
          ]
        }
      ]
    },
    {
      "cell_type": "code",
      "source": [
        "e=0\n",
        "for i in lisp:\n",
        "  if(i%2)==0:\n",
        "    e+=1\n",
        "    print(i)\n",
        "print('Even Number',e)  "
      ],
      "metadata": {
        "colab": {
          "base_uri": "https://localhost:8080/"
        },
        "id": "WPTINbiOyu6p",
        "outputId": "601bdb67-737f-4d9d-bbdf-d71a98b57ea3"
      },
      "execution_count": 68,
      "outputs": [
        {
          "output_type": "stream",
          "name": "stdout",
          "text": [
            "578\n",
            "738\n",
            "652\n",
            "482\n",
            "598\n",
            "152\n",
            "368\n",
            "406\n",
            "378\n",
            "784\n",
            "438\n",
            "792\n",
            "370\n",
            "686\n",
            "854\n",
            "676\n",
            "562\n",
            "580\n",
            "278\n",
            "774\n",
            "572\n",
            "836\n",
            "518\n",
            "168\n",
            "674\n",
            "340\n",
            "436\n",
            "114\n",
            "790\n",
            "362\n",
            "888\n",
            "866\n",
            "736\n",
            "172\n",
            "186\n",
            "214\n",
            "360\n",
            "612\n",
            "410\n",
            "686\n",
            "880\n",
            "532\n",
            "804\n",
            "122\n",
            "182\n",
            "878\n",
            "654\n",
            "484\n",
            "652\n",
            "154\n",
            "326\n",
            "116\n",
            "890\n",
            "Even Number 53\n"
          ]
        }
      ]
    },
    {
      "cell_type": "code",
      "source": [
        "e=0\n",
        "for i in lisp:\n",
        "  if(i%2)!=0:\n",
        "    e+=1\n",
        "    print(i)\n",
        "print('odd Number',e)  "
      ],
      "metadata": {
        "colab": {
          "base_uri": "https://localhost:8080/"
        },
        "id": "Mluzf8Dpy8mg",
        "outputId": "145580f7-51e5-4cc7-bdc5-7a98efd0332a"
      },
      "execution_count": 69,
      "outputs": [
        {
          "output_type": "stream",
          "name": "stdout",
          "text": [
            "519\n",
            "843\n",
            "377\n",
            "899\n",
            "551\n",
            "693\n",
            "893\n",
            "553\n",
            "541\n",
            "687\n",
            "245\n",
            "491\n",
            "299\n",
            "473\n",
            "591\n",
            "609\n",
            "329\n",
            "867\n",
            "797\n",
            "275\n",
            "265\n",
            "713\n",
            "627\n",
            "779\n",
            "437\n",
            "787\n",
            "581\n",
            "309\n",
            "389\n",
            "111\n",
            "869\n",
            "325\n",
            "623\n",
            "237\n",
            "861\n",
            "421\n",
            "169\n",
            "713\n",
            "207\n",
            "177\n",
            "521\n",
            "443\n",
            "389\n",
            "363\n",
            "499\n",
            "763\n",
            "635\n",
            "odd Number 47\n"
          ]
        }
      ]
    },
    {
      "cell_type": "code",
      "source": [
        "import string as s\n",
        "import random as r\n",
        "print (\"String        --> \",s.ascii_letters)\n",
        "passwd=r.sample(s.ascii_letters,6)"
      ],
      "metadata": {
        "id": "EC5Auq4Zfvcf"
      },
      "execution_count": null,
      "outputs": []
    },
    {
      "cell_type": "code",
      "source": [
        "print('Number of elements in list',len(L))"
      ],
      "metadata": {
        "colab": {
          "base_uri": "https://localhost:8080/"
        },
        "id": "POHC78F6XBlD",
        "outputId": "7cb7e960-ba50-4503-db15-a29758bcdd5f"
      },
      "execution_count": 10,
      "outputs": [
        {
          "output_type": "stream",
          "name": "stdout",
          "text": [
            "Number of elements in list 4\n"
          ]
        }
      ]
    },
    {
      "cell_type": "code",
      "source": [
        "if (13 in L) == True:\n",
        "\tprint (\"Present\")\n",
        "else:\n",
        "\tprint (\"Not Present\")"
      ],
      "metadata": {
        "colab": {
          "base_uri": "https://localhost:8080/"
        },
        "id": "deKWjvHrYqHR",
        "outputId": "5f396917-3829-4a8c-bdc0-4d2f8ff6a14f"
      },
      "execution_count": 11,
      "outputs": [
        {
          "output_type": "stream",
          "name": "stdout",
          "text": [
            "Not Present\n"
          ]
        }
      ]
    }
  ]
}